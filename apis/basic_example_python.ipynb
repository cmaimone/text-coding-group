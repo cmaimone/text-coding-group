{
 "cells": [
  {
   "cell_type": "markdown",
   "metadata": {},
   "source": [
    "## Resources\n",
    "\n",
    "This file is just a basic example to get started.  There are lots of other references.  A few:\n",
    "\n",
    "* https://www.digitalocean.com/community/tutorials/how-to-use-web-apis-in-python-3\n",
    "* https://www.dataquest.io/blog/python-api-tutorial/\n",
    "* https://www.codecademy.com/courses/python-intermediate-en-6zbLp/0/1\n",
    "* http://socialmedia-class.org/twittertutorial.html\n",
    "\n",
    "And the requests package documentation: http://docs.python-requests.org/en/master/"
   ]
  },
  {
   "cell_type": "code",
   "execution_count": 1,
   "metadata": {
    "collapsed": true
   },
   "outputs": [],
   "source": [
    "import json\n",
    "import requests\n",
    "import pandas as pd"
   ]
  },
  {
   "cell_type": "markdown",
   "metadata": {},
   "source": [
    "## Deck of Cards API\n",
    "\n",
    "We're going to call the deck of cards API: https://deckofcardsapi.com/"
   ]
  },
  {
   "cell_type": "code",
   "execution_count": 2,
   "metadata": {
    "collapsed": true
   },
   "outputs": [],
   "source": [
    "baseurl = \"https://deckofcardsapi.com/api/deck\""
   ]
  },
  {
   "cell_type": "markdown",
   "metadata": {},
   "source": [
    "To get a deck, we need to call: https://deckofcardsapi.com/api/deck/new/shuffle/?deck_count=1"
   ]
  },
  {
   "cell_type": "code",
   "execution_count": 3,
   "metadata": {
    "collapsed": true
   },
   "outputs": [],
   "source": [
    "response = requests.get(baseurl+\"/new/shuffle/?deck_count=1\")"
   ]
  },
  {
   "cell_type": "code",
   "execution_count": 4,
   "metadata": {
    "collapsed": false
   },
   "outputs": [
    {
     "data": {
      "text/plain": [
       "b'{\"remaining\": 52, \"shuffled\": true, \"success\": true, \"deck_id\": \"dr0pogjcw6q6\"}'"
      ]
     },
     "execution_count": 4,
     "metadata": {},
     "output_type": "execute_result"
    }
   ],
   "source": [
    "response.content"
   ]
  },
  {
   "cell_type": "markdown",
   "metadata": {},
   "source": [
    "Or we could have constructed the url like:"
   ]
  },
  {
   "cell_type": "code",
   "execution_count": 5,
   "metadata": {
    "collapsed": false
   },
   "outputs": [
    {
     "data": {
      "text/plain": [
       "b'{\"remaining\": 52, \"shuffled\": true, \"success\": true, \"deck_id\": \"14uzl95zowr4\"}'"
      ]
     },
     "execution_count": 5,
     "metadata": {},
     "output_type": "execute_result"
    }
   ],
   "source": [
    "response = requests.get(baseurl+\"/new/shuffle/\", params={'deck_count':1})\n",
    "response.content"
   ]
  },
  {
   "cell_type": "markdown",
   "metadata": {},
   "source": [
    "The above looks like it might be a dict, but it's not accessible like that:"
   ]
  },
  {
   "cell_type": "code",
   "execution_count": 6,
   "metadata": {
    "collapsed": false
   },
   "outputs": [
    {
     "ename": "TypeError",
     "evalue": "byte indices must be integers or slices, not str",
     "output_type": "error",
     "traceback": [
      "\u001b[0;31m---------------------------------------------------------------------------\u001b[0m",
      "\u001b[0;31mTypeError\u001b[0m                                 Traceback (most recent call last)",
      "\u001b[0;32m<ipython-input-6-f7680ec44af8>\u001b[0m in \u001b[0;36m<module>\u001b[0;34m()\u001b[0m\n\u001b[0;32m----> 1\u001b[0;31m \u001b[0mresponse\u001b[0m\u001b[0;34m.\u001b[0m\u001b[0mcontent\u001b[0m\u001b[0;34m[\u001b[0m\u001b[0;34m\"deck_id\"\u001b[0m\u001b[0;34m]\u001b[0m\u001b[0;34m\u001b[0m\u001b[0m\n\u001b[0m",
      "\u001b[0;31mTypeError\u001b[0m: byte indices must be integers or slices, not str"
     ]
    }
   ],
   "source": [
    "response.content[\"deck_id\"]"
   ]
  },
  {
   "cell_type": "markdown",
   "metadata": {},
   "source": [
    "We need to get the JSON - the code below will automatically get us just the content"
   ]
  },
  {
   "cell_type": "code",
   "execution_count": 7,
   "metadata": {
    "collapsed": false
   },
   "outputs": [
    {
     "data": {
      "text/plain": [
       "{'deck_id': '14uzl95zowr4', 'remaining': 52, 'shuffled': True, 'success': True}"
      ]
     },
     "execution_count": 7,
     "metadata": {},
     "output_type": "execute_result"
    }
   ],
   "source": [
    "response.json()"
   ]
  },
  {
   "cell_type": "code",
   "execution_count": 8,
   "metadata": {
    "collapsed": true
   },
   "outputs": [],
   "source": [
    "deck = response.json()"
   ]
  },
  {
   "cell_type": "markdown",
   "metadata": {},
   "source": [
    "Now let's draw some cards.  We want need the `deck_id` from above to put in https://deckofcardsapi.com/api/deck/[deckid]/draw/?count=2"
   ]
  },
  {
   "cell_type": "code",
   "execution_count": 9,
   "metadata": {
    "collapsed": false
   },
   "outputs": [
    {
     "data": {
      "text/plain": [
       "{'cards': [{'code': '0H',\n",
       "   'image': 'http://deckofcardsapi.com/static/img/0H.png',\n",
       "   'images': {'png': 'http://deckofcardsapi.com/static/img/0H.png',\n",
       "    'svg': 'http://deckofcardsapi.com/static/img/0H.svg'},\n",
       "   'suit': 'HEARTS',\n",
       "   'value': '10'},\n",
       "  {'code': '2H',\n",
       "   'image': 'http://deckofcardsapi.com/static/img/2H.png',\n",
       "   'images': {'png': 'http://deckofcardsapi.com/static/img/2H.png',\n",
       "    'svg': 'http://deckofcardsapi.com/static/img/2H.svg'},\n",
       "   'suit': 'HEARTS',\n",
       "   'value': '2'}],\n",
       " 'deck_id': '14uzl95zowr4',\n",
       " 'remaining': 50,\n",
       " 'success': True}"
      ]
     },
     "execution_count": 9,
     "metadata": {},
     "output_type": "execute_result"
    }
   ],
   "source": [
    "cardsresponse = requests.get(\"{}/{}/draw\".format(baseurl, deck[\"deck_id\"]), params={\"count\":2})\n",
    "cardsresponse.json()"
   ]
  },
  {
   "cell_type": "markdown",
   "metadata": {},
   "source": [
    "That's great, but now what do we do with that?  We could just keep the object and append more results to it for use later.  But perhaps we're trying to make a data set.  We could store the cards part of the response into a pandas data frame"
   ]
  },
  {
   "cell_type": "code",
   "execution_count": 10,
   "metadata": {
    "collapsed": false
   },
   "outputs": [
    {
     "data": {
      "text/html": [
       "<div>\n",
       "<style>\n",
       "    .dataframe thead tr:only-child th {\n",
       "        text-align: right;\n",
       "    }\n",
       "\n",
       "    .dataframe thead th {\n",
       "        text-align: left;\n",
       "    }\n",
       "\n",
       "    .dataframe tbody tr th {\n",
       "        vertical-align: top;\n",
       "    }\n",
       "</style>\n",
       "<table border=\"1\" class=\"dataframe\">\n",
       "  <thead>\n",
       "    <tr style=\"text-align: right;\">\n",
       "      <th></th>\n",
       "      <th>code</th>\n",
       "      <th>image</th>\n",
       "      <th>images</th>\n",
       "      <th>suit</th>\n",
       "      <th>value</th>\n",
       "    </tr>\n",
       "  </thead>\n",
       "  <tbody>\n",
       "    <tr>\n",
       "      <th>0</th>\n",
       "      <td>0H</td>\n",
       "      <td>http://deckofcardsapi.com/static/img/0H.png</td>\n",
       "      <td>{'png': 'http://deckofcardsapi.com/static/img/...</td>\n",
       "      <td>HEARTS</td>\n",
       "      <td>10</td>\n",
       "    </tr>\n",
       "    <tr>\n",
       "      <th>1</th>\n",
       "      <td>2H</td>\n",
       "      <td>http://deckofcardsapi.com/static/img/2H.png</td>\n",
       "      <td>{'png': 'http://deckofcardsapi.com/static/img/...</td>\n",
       "      <td>HEARTS</td>\n",
       "      <td>2</td>\n",
       "    </tr>\n",
       "  </tbody>\n",
       "</table>\n",
       "</div>"
      ],
      "text/plain": [
       "  code                                        image  \\\n",
       "0   0H  http://deckofcardsapi.com/static/img/0H.png   \n",
       "1   2H  http://deckofcardsapi.com/static/img/2H.png   \n",
       "\n",
       "                                              images    suit value  \n",
       "0  {'png': 'http://deckofcardsapi.com/static/img/...  HEARTS    10  \n",
       "1  {'png': 'http://deckofcardsapi.com/static/img/...  HEARTS     2  "
      ]
     },
     "execution_count": 10,
     "metadata": {},
     "output_type": "execute_result"
    }
   ],
   "source": [
    "df = pd.DataFrame(cardsresponse.json()['cards'])\n",
    "df"
   ]
  },
  {
   "cell_type": "markdown",
   "metadata": {},
   "source": [
    "Let's add more cards from the deck"
   ]
  },
  {
   "cell_type": "code",
   "execution_count": 11,
   "metadata": {
    "collapsed": false
   },
   "outputs": [
    {
     "data": {
      "text/html": [
       "<div>\n",
       "<style>\n",
       "    .dataframe thead tr:only-child th {\n",
       "        text-align: right;\n",
       "    }\n",
       "\n",
       "    .dataframe thead th {\n",
       "        text-align: left;\n",
       "    }\n",
       "\n",
       "    .dataframe tbody tr th {\n",
       "        vertical-align: top;\n",
       "    }\n",
       "</style>\n",
       "<table border=\"1\" class=\"dataframe\">\n",
       "  <thead>\n",
       "    <tr style=\"text-align: right;\">\n",
       "      <th></th>\n",
       "      <th>code</th>\n",
       "      <th>image</th>\n",
       "      <th>images</th>\n",
       "      <th>suit</th>\n",
       "      <th>value</th>\n",
       "    </tr>\n",
       "  </thead>\n",
       "  <tbody>\n",
       "    <tr>\n",
       "      <th>0</th>\n",
       "      <td>0H</td>\n",
       "      <td>http://deckofcardsapi.com/static/img/0H.png</td>\n",
       "      <td>{'png': 'http://deckofcardsapi.com/static/img/...</td>\n",
       "      <td>HEARTS</td>\n",
       "      <td>10</td>\n",
       "    </tr>\n",
       "    <tr>\n",
       "      <th>1</th>\n",
       "      <td>2H</td>\n",
       "      <td>http://deckofcardsapi.com/static/img/2H.png</td>\n",
       "      <td>{'png': 'http://deckofcardsapi.com/static/img/...</td>\n",
       "      <td>HEARTS</td>\n",
       "      <td>2</td>\n",
       "    </tr>\n",
       "    <tr>\n",
       "      <th>0</th>\n",
       "      <td>0S</td>\n",
       "      <td>http://deckofcardsapi.com/static/img/0S.png</td>\n",
       "      <td>{'png': 'http://deckofcardsapi.com/static/img/...</td>\n",
       "      <td>SPADES</td>\n",
       "      <td>10</td>\n",
       "    </tr>\n",
       "    <tr>\n",
       "      <th>1</th>\n",
       "      <td>QC</td>\n",
       "      <td>http://deckofcardsapi.com/static/img/QC.png</td>\n",
       "      <td>{'png': 'http://deckofcardsapi.com/static/img/...</td>\n",
       "      <td>CLUBS</td>\n",
       "      <td>QUEEN</td>\n",
       "    </tr>\n",
       "    <tr>\n",
       "      <th>2</th>\n",
       "      <td>6C</td>\n",
       "      <td>http://deckofcardsapi.com/static/img/6C.png</td>\n",
       "      <td>{'png': 'http://deckofcardsapi.com/static/img/...</td>\n",
       "      <td>CLUBS</td>\n",
       "      <td>6</td>\n",
       "    </tr>\n",
       "    <tr>\n",
       "      <th>3</th>\n",
       "      <td>4D</td>\n",
       "      <td>http://deckofcardsapi.com/static/img/4D.png</td>\n",
       "      <td>{'png': 'http://deckofcardsapi.com/static/img/...</td>\n",
       "      <td>DIAMONDS</td>\n",
       "      <td>4</td>\n",
       "    </tr>\n",
       "    <tr>\n",
       "      <th>4</th>\n",
       "      <td>JC</td>\n",
       "      <td>http://deckofcardsapi.com/static/img/JC.png</td>\n",
       "      <td>{'png': 'http://deckofcardsapi.com/static/img/...</td>\n",
       "      <td>CLUBS</td>\n",
       "      <td>JACK</td>\n",
       "    </tr>\n",
       "    <tr>\n",
       "      <th>0</th>\n",
       "      <td>KS</td>\n",
       "      <td>http://deckofcardsapi.com/static/img/KS.png</td>\n",
       "      <td>{'png': 'http://deckofcardsapi.com/static/img/...</td>\n",
       "      <td>SPADES</td>\n",
       "      <td>KING</td>\n",
       "    </tr>\n",
       "    <tr>\n",
       "      <th>1</th>\n",
       "      <td>4H</td>\n",
       "      <td>http://deckofcardsapi.com/static/img/4H.png</td>\n",
       "      <td>{'png': 'http://deckofcardsapi.com/static/img/...</td>\n",
       "      <td>HEARTS</td>\n",
       "      <td>4</td>\n",
       "    </tr>\n",
       "    <tr>\n",
       "      <th>2</th>\n",
       "      <td>8S</td>\n",
       "      <td>http://deckofcardsapi.com/static/img/8S.png</td>\n",
       "      <td>{'png': 'http://deckofcardsapi.com/static/img/...</td>\n",
       "      <td>SPADES</td>\n",
       "      <td>8</td>\n",
       "    </tr>\n",
       "    <tr>\n",
       "      <th>0</th>\n",
       "      <td>7H</td>\n",
       "      <td>http://deckofcardsapi.com/static/img/7H.png</td>\n",
       "      <td>{'png': 'http://deckofcardsapi.com/static/img/...</td>\n",
       "      <td>HEARTS</td>\n",
       "      <td>7</td>\n",
       "    </tr>\n",
       "    <tr>\n",
       "      <th>1</th>\n",
       "      <td>JD</td>\n",
       "      <td>http://deckofcardsapi.com/static/img/JD.png</td>\n",
       "      <td>{'png': 'http://deckofcardsapi.com/static/img/...</td>\n",
       "      <td>DIAMONDS</td>\n",
       "      <td>JACK</td>\n",
       "    </tr>\n",
       "  </tbody>\n",
       "</table>\n",
       "</div>"
      ],
      "text/plain": [
       "  code                                        image  \\\n",
       "0   0H  http://deckofcardsapi.com/static/img/0H.png   \n",
       "1   2H  http://deckofcardsapi.com/static/img/2H.png   \n",
       "0   0S  http://deckofcardsapi.com/static/img/0S.png   \n",
       "1   QC  http://deckofcardsapi.com/static/img/QC.png   \n",
       "2   6C  http://deckofcardsapi.com/static/img/6C.png   \n",
       "3   4D  http://deckofcardsapi.com/static/img/4D.png   \n",
       "4   JC  http://deckofcardsapi.com/static/img/JC.png   \n",
       "0   KS  http://deckofcardsapi.com/static/img/KS.png   \n",
       "1   4H  http://deckofcardsapi.com/static/img/4H.png   \n",
       "2   8S  http://deckofcardsapi.com/static/img/8S.png   \n",
       "0   7H  http://deckofcardsapi.com/static/img/7H.png   \n",
       "1   JD  http://deckofcardsapi.com/static/img/JD.png   \n",
       "\n",
       "                                              images      suit  value  \n",
       "0  {'png': 'http://deckofcardsapi.com/static/img/...    HEARTS     10  \n",
       "1  {'png': 'http://deckofcardsapi.com/static/img/...    HEARTS      2  \n",
       "0  {'png': 'http://deckofcardsapi.com/static/img/...    SPADES     10  \n",
       "1  {'png': 'http://deckofcardsapi.com/static/img/...     CLUBS  QUEEN  \n",
       "2  {'png': 'http://deckofcardsapi.com/static/img/...     CLUBS      6  \n",
       "3  {'png': 'http://deckofcardsapi.com/static/img/...  DIAMONDS      4  \n",
       "4  {'png': 'http://deckofcardsapi.com/static/img/...     CLUBS   JACK  \n",
       "0  {'png': 'http://deckofcardsapi.com/static/img/...    SPADES   KING  \n",
       "1  {'png': 'http://deckofcardsapi.com/static/img/...    HEARTS      4  \n",
       "2  {'png': 'http://deckofcardsapi.com/static/img/...    SPADES      8  \n",
       "0  {'png': 'http://deckofcardsapi.com/static/img/...    HEARTS      7  \n",
       "1  {'png': 'http://deckofcardsapi.com/static/img/...  DIAMONDS   JACK  "
      ]
     },
     "execution_count": 11,
     "metadata": {},
     "output_type": "execute_result"
    }
   ],
   "source": [
    "def get_cards(n, deckid):\n",
    "    cardsresponse = requests.get(\"{}/{}/draw\".format(baseurl, deckid), params={\"count\":n})\n",
    "    return pd.DataFrame(cardsresponse.json()['cards'])\n",
    "\n",
    "for n in [5,3,2]: # get 5 cards, 3, cards, 2 cards\n",
    "    df = df.append(get_cards(n, deck[\"deck_id\"]))\n",
    "    \n",
    "df"
   ]
  },
  {
   "cell_type": "markdown",
   "metadata": {},
   "source": [
    "What happens if there aren't enough cards left?"
   ]
  },
  {
   "cell_type": "code",
   "execution_count": 12,
   "metadata": {
    "collapsed": true
   },
   "outputs": [],
   "source": [
    "cardsresponse = requests.get(\"{}/{}/draw\".format(baseurl, deck[\"deck_id\"]), params={\"count\":50})"
   ]
  },
  {
   "cell_type": "code",
   "execution_count": 14,
   "metadata": {
    "collapsed": false
   },
   "outputs": [
    {
     "data": {
      "text/plain": [
       "{'cards': [{'code': '4S',\n",
       "   'image': 'http://deckofcardsapi.com/static/img/4S.png',\n",
       "   'images': {'png': 'http://deckofcardsapi.com/static/img/4S.png',\n",
       "    'svg': 'http://deckofcardsapi.com/static/img/4S.svg'},\n",
       "   'suit': 'SPADES',\n",
       "   'value': '4'},\n",
       "  {'code': '5S',\n",
       "   'image': 'http://deckofcardsapi.com/static/img/5S.png',\n",
       "   'images': {'png': 'http://deckofcardsapi.com/static/img/5S.png',\n",
       "    'svg': 'http://deckofcardsapi.com/static/img/5S.svg'},\n",
       "   'suit': 'SPADES',\n",
       "   'value': '5'},\n",
       "  {'code': '9S',\n",
       "   'image': 'http://deckofcardsapi.com/static/img/9S.png',\n",
       "   'images': {'png': 'http://deckofcardsapi.com/static/img/9S.png',\n",
       "    'svg': 'http://deckofcardsapi.com/static/img/9S.svg'},\n",
       "   'suit': 'SPADES',\n",
       "   'value': '9'},\n",
       "  {'code': '3H',\n",
       "   'image': 'http://deckofcardsapi.com/static/img/3H.png',\n",
       "   'images': {'png': 'http://deckofcardsapi.com/static/img/3H.png',\n",
       "    'svg': 'http://deckofcardsapi.com/static/img/3H.svg'},\n",
       "   'suit': 'HEARTS',\n",
       "   'value': '3'},\n",
       "  {'code': 'JS',\n",
       "   'image': 'http://deckofcardsapi.com/static/img/JS.png',\n",
       "   'images': {'png': 'http://deckofcardsapi.com/static/img/JS.png',\n",
       "    'svg': 'http://deckofcardsapi.com/static/img/JS.svg'},\n",
       "   'suit': 'SPADES',\n",
       "   'value': 'JACK'},\n",
       "  {'code': '4C',\n",
       "   'image': 'http://deckofcardsapi.com/static/img/4C.png',\n",
       "   'images': {'png': 'http://deckofcardsapi.com/static/img/4C.png',\n",
       "    'svg': 'http://deckofcardsapi.com/static/img/4C.svg'},\n",
       "   'suit': 'CLUBS',\n",
       "   'value': '4'},\n",
       "  {'code': 'KC',\n",
       "   'image': 'http://deckofcardsapi.com/static/img/KC.png',\n",
       "   'images': {'png': 'http://deckofcardsapi.com/static/img/KC.png',\n",
       "    'svg': 'http://deckofcardsapi.com/static/img/KC.svg'},\n",
       "   'suit': 'CLUBS',\n",
       "   'value': 'KING'},\n",
       "  {'code': '6S',\n",
       "   'image': 'http://deckofcardsapi.com/static/img/6S.png',\n",
       "   'images': {'png': 'http://deckofcardsapi.com/static/img/6S.png',\n",
       "    'svg': 'http://deckofcardsapi.com/static/img/6S.svg'},\n",
       "   'suit': 'SPADES',\n",
       "   'value': '6'},\n",
       "  {'code': '0C',\n",
       "   'image': 'http://deckofcardsapi.com/static/img/0C.png',\n",
       "   'images': {'png': 'http://deckofcardsapi.com/static/img/0C.png',\n",
       "    'svg': 'http://deckofcardsapi.com/static/img/0C.svg'},\n",
       "   'suit': 'CLUBS',\n",
       "   'value': '10'},\n",
       "  {'code': '8H',\n",
       "   'image': 'http://deckofcardsapi.com/static/img/8H.png',\n",
       "   'images': {'png': 'http://deckofcardsapi.com/static/img/8H.png',\n",
       "    'svg': 'http://deckofcardsapi.com/static/img/8H.svg'},\n",
       "   'suit': 'HEARTS',\n",
       "   'value': '8'},\n",
       "  {'code': '6D',\n",
       "   'image': 'http://deckofcardsapi.com/static/img/6D.png',\n",
       "   'images': {'png': 'http://deckofcardsapi.com/static/img/6D.png',\n",
       "    'svg': 'http://deckofcardsapi.com/static/img/6D.svg'},\n",
       "   'suit': 'DIAMONDS',\n",
       "   'value': '6'},\n",
       "  {'code': '3S',\n",
       "   'image': 'http://deckofcardsapi.com/static/img/3S.png',\n",
       "   'images': {'png': 'http://deckofcardsapi.com/static/img/3S.png',\n",
       "    'svg': 'http://deckofcardsapi.com/static/img/3S.svg'},\n",
       "   'suit': 'SPADES',\n",
       "   'value': '3'},\n",
       "  {'code': 'AC',\n",
       "   'image': 'http://deckofcardsapi.com/static/img/AC.png',\n",
       "   'images': {'png': 'http://deckofcardsapi.com/static/img/AC.png',\n",
       "    'svg': 'http://deckofcardsapi.com/static/img/AC.svg'},\n",
       "   'suit': 'CLUBS',\n",
       "   'value': 'ACE'},\n",
       "  {'code': '6H',\n",
       "   'image': 'http://deckofcardsapi.com/static/img/6H.png',\n",
       "   'images': {'png': 'http://deckofcardsapi.com/static/img/6H.png',\n",
       "    'svg': 'http://deckofcardsapi.com/static/img/6H.svg'},\n",
       "   'suit': 'HEARTS',\n",
       "   'value': '6'},\n",
       "  {'code': '5D',\n",
       "   'image': 'http://deckofcardsapi.com/static/img/5D.png',\n",
       "   'images': {'png': 'http://deckofcardsapi.com/static/img/5D.png',\n",
       "    'svg': 'http://deckofcardsapi.com/static/img/5D.svg'},\n",
       "   'suit': 'DIAMONDS',\n",
       "   'value': '5'},\n",
       "  {'code': '0D',\n",
       "   'image': 'http://deckofcardsapi.com/static/img/0D.png',\n",
       "   'images': {'png': 'http://deckofcardsapi.com/static/img/0D.png',\n",
       "    'svg': 'http://deckofcardsapi.com/static/img/0D.svg'},\n",
       "   'suit': 'DIAMONDS',\n",
       "   'value': '10'},\n",
       "  {'code': '7C',\n",
       "   'image': 'http://deckofcardsapi.com/static/img/7C.png',\n",
       "   'images': {'png': 'http://deckofcardsapi.com/static/img/7C.png',\n",
       "    'svg': 'http://deckofcardsapi.com/static/img/7C.svg'},\n",
       "   'suit': 'CLUBS',\n",
       "   'value': '7'},\n",
       "  {'code': '2D',\n",
       "   'image': 'http://deckofcardsapi.com/static/img/2D.png',\n",
       "   'images': {'png': 'http://deckofcardsapi.com/static/img/2D.png',\n",
       "    'svg': 'http://deckofcardsapi.com/static/img/2D.svg'},\n",
       "   'suit': 'DIAMONDS',\n",
       "   'value': '2'},\n",
       "  {'code': 'QD',\n",
       "   'image': 'http://deckofcardsapi.com/static/img/QD.png',\n",
       "   'images': {'png': 'http://deckofcardsapi.com/static/img/QD.png',\n",
       "    'svg': 'http://deckofcardsapi.com/static/img/QD.svg'},\n",
       "   'suit': 'DIAMONDS',\n",
       "   'value': 'QUEEN'},\n",
       "  {'code': '9D',\n",
       "   'image': 'http://deckofcardsapi.com/static/img/9D.png',\n",
       "   'images': {'png': 'http://deckofcardsapi.com/static/img/9D.png',\n",
       "    'svg': 'http://deckofcardsapi.com/static/img/9D.svg'},\n",
       "   'suit': 'DIAMONDS',\n",
       "   'value': '9'},\n",
       "  {'code': '3D',\n",
       "   'image': 'http://deckofcardsapi.com/static/img/3D.png',\n",
       "   'images': {'png': 'http://deckofcardsapi.com/static/img/3D.png',\n",
       "    'svg': 'http://deckofcardsapi.com/static/img/3D.svg'},\n",
       "   'suit': 'DIAMONDS',\n",
       "   'value': '3'},\n",
       "  {'code': '2S',\n",
       "   'image': 'http://deckofcardsapi.com/static/img/2S.png',\n",
       "   'images': {'png': 'http://deckofcardsapi.com/static/img/2S.png',\n",
       "    'svg': 'http://deckofcardsapi.com/static/img/2S.svg'},\n",
       "   'suit': 'SPADES',\n",
       "   'value': '2'},\n",
       "  {'code': 'AS',\n",
       "   'image': 'http://deckofcardsapi.com/static/img/AS.png',\n",
       "   'images': {'png': 'http://deckofcardsapi.com/static/img/AS.png',\n",
       "    'svg': 'http://deckofcardsapi.com/static/img/AS.svg'},\n",
       "   'suit': 'SPADES',\n",
       "   'value': 'ACE'},\n",
       "  {'code': '7D',\n",
       "   'image': 'http://deckofcardsapi.com/static/img/7D.png',\n",
       "   'images': {'png': 'http://deckofcardsapi.com/static/img/7D.png',\n",
       "    'svg': 'http://deckofcardsapi.com/static/img/7D.svg'},\n",
       "   'suit': 'DIAMONDS',\n",
       "   'value': '7'},\n",
       "  {'code': 'QH',\n",
       "   'image': 'http://deckofcardsapi.com/static/img/QH.png',\n",
       "   'images': {'png': 'http://deckofcardsapi.com/static/img/QH.png',\n",
       "    'svg': 'http://deckofcardsapi.com/static/img/QH.svg'},\n",
       "   'suit': 'HEARTS',\n",
       "   'value': 'QUEEN'},\n",
       "  {'code': '5H',\n",
       "   'image': 'http://deckofcardsapi.com/static/img/5H.png',\n",
       "   'images': {'png': 'http://deckofcardsapi.com/static/img/5H.png',\n",
       "    'svg': 'http://deckofcardsapi.com/static/img/5H.svg'},\n",
       "   'suit': 'HEARTS',\n",
       "   'value': '5'},\n",
       "  {'code': 'JH',\n",
       "   'image': 'http://deckofcardsapi.com/static/img/JH.png',\n",
       "   'images': {'png': 'http://deckofcardsapi.com/static/img/JH.png',\n",
       "    'svg': 'http://deckofcardsapi.com/static/img/JH.svg'},\n",
       "   'suit': 'HEARTS',\n",
       "   'value': 'JACK'},\n",
       "  {'code': '8C',\n",
       "   'image': 'http://deckofcardsapi.com/static/img/8C.png',\n",
       "   'images': {'png': 'http://deckofcardsapi.com/static/img/8C.png',\n",
       "    'svg': 'http://deckofcardsapi.com/static/img/8C.svg'},\n",
       "   'suit': 'CLUBS',\n",
       "   'value': '8'},\n",
       "  {'code': '9C',\n",
       "   'image': 'http://deckofcardsapi.com/static/img/9C.png',\n",
       "   'images': {'png': 'http://deckofcardsapi.com/static/img/9C.png',\n",
       "    'svg': 'http://deckofcardsapi.com/static/img/9C.svg'},\n",
       "   'suit': 'CLUBS',\n",
       "   'value': '9'},\n",
       "  {'code': 'AH',\n",
       "   'image': 'http://deckofcardsapi.com/static/img/AH.png',\n",
       "   'images': {'png': 'http://deckofcardsapi.com/static/img/AH.png',\n",
       "    'svg': 'http://deckofcardsapi.com/static/img/AH.svg'},\n",
       "   'suit': 'HEARTS',\n",
       "   'value': 'ACE'},\n",
       "  {'code': 'KD',\n",
       "   'image': 'http://deckofcardsapi.com/static/img/KD.png',\n",
       "   'images': {'png': 'http://deckofcardsapi.com/static/img/KD.png',\n",
       "    'svg': 'http://deckofcardsapi.com/static/img/KD.svg'},\n",
       "   'suit': 'DIAMONDS',\n",
       "   'value': 'KING'},\n",
       "  {'code': 'QS',\n",
       "   'image': 'http://deckofcardsapi.com/static/img/QS.png',\n",
       "   'images': {'png': 'http://deckofcardsapi.com/static/img/QS.png',\n",
       "    'svg': 'http://deckofcardsapi.com/static/img/QS.svg'},\n",
       "   'suit': 'SPADES',\n",
       "   'value': 'QUEEN'},\n",
       "  {'code': '8D',\n",
       "   'image': 'http://deckofcardsapi.com/static/img/8D.png',\n",
       "   'images': {'png': 'http://deckofcardsapi.com/static/img/8D.png',\n",
       "    'svg': 'http://deckofcardsapi.com/static/img/8D.svg'},\n",
       "   'suit': 'DIAMONDS',\n",
       "   'value': '8'},\n",
       "  {'code': '7S',\n",
       "   'image': 'http://deckofcardsapi.com/static/img/7S.png',\n",
       "   'images': {'png': 'http://deckofcardsapi.com/static/img/7S.png',\n",
       "    'svg': 'http://deckofcardsapi.com/static/img/7S.svg'},\n",
       "   'suit': 'SPADES',\n",
       "   'value': '7'},\n",
       "  {'code': '5C',\n",
       "   'image': 'http://deckofcardsapi.com/static/img/5C.png',\n",
       "   'images': {'png': 'http://deckofcardsapi.com/static/img/5C.png',\n",
       "    'svg': 'http://deckofcardsapi.com/static/img/5C.svg'},\n",
       "   'suit': 'CLUBS',\n",
       "   'value': '5'},\n",
       "  {'code': 'AD',\n",
       "   'image': 'http://deckofcardsapi.com/static/img/aceDiamonds.png',\n",
       "   'images': {'png': 'http://deckofcardsapi.com/static/img/AD.png',\n",
       "    'svg': 'http://deckofcardsapi.com/static/img/AD.svg'},\n",
       "   'suit': 'DIAMONDS',\n",
       "   'value': 'ACE'},\n",
       "  {'code': '2C',\n",
       "   'image': 'http://deckofcardsapi.com/static/img/2C.png',\n",
       "   'images': {'png': 'http://deckofcardsapi.com/static/img/2C.png',\n",
       "    'svg': 'http://deckofcardsapi.com/static/img/2C.svg'},\n",
       "   'suit': 'CLUBS',\n",
       "   'value': '2'},\n",
       "  {'code': '9H',\n",
       "   'image': 'http://deckofcardsapi.com/static/img/9H.png',\n",
       "   'images': {'png': 'http://deckofcardsapi.com/static/img/9H.png',\n",
       "    'svg': 'http://deckofcardsapi.com/static/img/9H.svg'},\n",
       "   'suit': 'HEARTS',\n",
       "   'value': '9'},\n",
       "  {'code': '3C',\n",
       "   'image': 'http://deckofcardsapi.com/static/img/3C.png',\n",
       "   'images': {'png': 'http://deckofcardsapi.com/static/img/3C.png',\n",
       "    'svg': 'http://deckofcardsapi.com/static/img/3C.svg'},\n",
       "   'suit': 'CLUBS',\n",
       "   'value': '3'},\n",
       "  {'code': 'KH',\n",
       "   'image': 'http://deckofcardsapi.com/static/img/KH.png',\n",
       "   'images': {'png': 'http://deckofcardsapi.com/static/img/KH.png',\n",
       "    'svg': 'http://deckofcardsapi.com/static/img/KH.svg'},\n",
       "   'suit': 'HEARTS',\n",
       "   'value': 'KING'}],\n",
       " 'deck_id': '14uzl95zowr4',\n",
       " 'error': 'Not enough cards remaining to draw 50 additional',\n",
       " 'remaining': 0,\n",
       " 'success': False}"
      ]
     },
     "execution_count": 14,
     "metadata": {},
     "output_type": "execute_result"
    }
   ],
   "source": [
    "cardsresponse.json()"
   ]
  },
  {
   "cell_type": "markdown",
   "metadata": {},
   "source": [
    "The response type was fine -- we got data back.  It drew the remaining cards then added an error that there weren't enough left in the deck.  This could be tricky to detect."
   ]
  },
  {
   "cell_type": "code",
   "execution_count": null,
   "metadata": {
    "collapsed": true
   },
   "outputs": [],
   "source": []
  }
 ],
 "metadata": {
  "kernelspec": {
   "display_name": "Python 3 (conda p3)",
   "language": "python",
   "name": "p3"
  },
  "language_info": {
   "codemirror_mode": {
    "name": "ipython",
    "version": 3
   },
   "file_extension": ".py",
   "mimetype": "text/x-python",
   "name": "python",
   "nbconvert_exporter": "python",
   "pygments_lexer": "ipython3",
   "version": "3.6.1"
  }
 },
 "nbformat": 4,
 "nbformat_minor": 2
}
